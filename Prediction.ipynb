{
 "cells": [
  {
   "cell_type": "code",
   "execution_count": 1,
   "id": "ebf2d650",
   "metadata": {},
   "outputs": [],
   "source": [
    "import pickle\n",
    "\n",
    "# Load the model\n",
    "with open('best_rf_clf.pkl', 'rb') as file:\n",
    "    loaded_model = pickle.load(file)"
   ]
  },
  {
   "cell_type": "code",
   "execution_count": 2,
   "id": "c679c81f",
   "metadata": {},
   "outputs": [],
   "source": [
    "import pickle\n",
    "\n",
    "# Load the scaler\n",
    "with open('scaler.pkl', 'rb') as file:\n",
    "    loaded_scaler = pickle.load(file)"
   ]
  },
  {
   "cell_type": "code",
   "execution_count": 3,
   "id": "53e89a85",
   "metadata": {},
   "outputs": [],
   "source": [
    "import pandas as pd\n",
    "from nltk.metrics import edit_distance\n",
    "from collections import Counter\n",
    "from difflib import SequenceMatcher\n",
    "from soundex import Soundex  # Make sure to install the 'soundex' package\n",
    "\n",
    "# Initialize Soundex instance\n",
    "soundex = Soundex()\n",
    "\n",
    "def extract_features(row):\n",
    "    correct_word = row['Intended Word']\n",
    "    error_word = row['Produced Word']\n",
    "    \n",
    "    # Edit Distance\n",
    "    edit_dist = edit_distance(correct_word, error_word)\n",
    "    \n",
    "    # Length Difference\n",
    "    length_diff = abs(len(correct_word) - len(error_word))\n",
    "    \n",
    "    # First Character Difference (1 if different, 0 if the same)\n",
    "    first_char_diff = int(correct_word[0] != error_word[0])\n",
    "    \n",
    "    # Last Character Difference (1 if different, 0 if the same)\n",
    "    last_char_diff = int(correct_word[-1] != error_word[-1]) if len(correct_word) > 0 and len(error_word) > 0 else 0\n",
    "    \n",
    "    # Vowel Count Difference\n",
    "    vowels = \"AEIOUaeiou\"\n",
    "    correct_vowel_count = sum(1 for char in correct_word if char in vowels)\n",
    "    error_vowel_count = sum(1 for char in error_word if char in vowels)\n",
    "    vowel_count_diff = abs(correct_vowel_count - error_vowel_count)\n",
    "    \n",
    "    # Consonant Count Difference\n",
    "    correct_consonant_count = len(correct_word) - correct_vowel_count\n",
    "    error_consonant_count = len(error_word) - error_vowel_count\n",
    "    consonant_count_diff = abs(correct_consonant_count - error_consonant_count)\n",
    "    \n",
    "    # Position of First Mismatch\n",
    "    first_mismatch_pos = next((i for i, (c1, c2) in enumerate(zip(correct_word, error_word)) if c1 != c2), -1)\n",
    "    \n",
    "    # Character Frequency Difference\n",
    "    correct_word_counter = Counter(correct_word)\n",
    "    error_word_counter = Counter(error_word)\n",
    "    char_freq_diff = sum(abs(correct_word_counter[char] - error_word_counter.get(char, 0)) for char in correct_word_counter)\n",
    "    \n",
    "    # Positional Difference (Sum of positional mismatches)\n",
    "    positional_diff = sum(i for i, (c1, c2) in enumerate(zip(correct_word, error_word)) if c1 != c2)\n",
    "    \n",
    "    # Longest Common Substring Length\n",
    "    common_substring_len = len(longest_common_substring(correct_word, error_word))\n",
    "    \n",
    "    # Vowel Position Difference (Total mismatched positions of vowels)\n",
    "    vowel_diff = sum(1 for i, (c1, c2) in enumerate(zip(correct_word, error_word)) if c1 in vowels and c2 not in vowels)\n",
    "    \n",
    "    # Soundex Difference\n",
    "    soundex_diff = int(soundex.soundex(correct_word) != soundex.soundex(error_word))\n",
    "    \n",
    "    # Prefix Difference (Checking similarity of the first 3 characters)\n",
    "    prefix_diff = int(correct_word[:3] != error_word[:3]) if len(correct_word) >= 3 and len(error_word) >= 3 else 0\n",
    "    \n",
    "    # Suffix Difference (Checking similarity of the last 3 characters)\n",
    "    suffix_diff = int(correct_word[-3:] != error_word[-3:]) if len(correct_word) >= 3 and len(error_word) >= 3 else 0\n",
    "\n",
    "    return pd.Series([\n",
    "        edit_dist, length_diff, first_char_diff, last_char_diff,\n",
    "        vowel_count_diff, consonant_count_diff, first_mismatch_pos,\n",
    "        char_freq_diff, positional_diff, common_substring_len,\n",
    "        vowel_diff, soundex_diff, prefix_diff, suffix_diff\n",
    "    ])\n",
    "\n",
    "def longest_common_substring(str1, str2):\n",
    "    \"\"\" Helper function to find the longest common substring. \"\"\"\n",
    "    seq_match = SequenceMatcher(None, str1, str2)\n",
    "    match = seq_match.find_longest_match(0, len(str1), 0, len(str2))\n",
    "    return str1[match.a: match.a + match.size]\n"
   ]
  },
  {
   "cell_type": "code",
   "execution_count": 4,
   "id": "81487743",
   "metadata": {},
   "outputs": [],
   "source": [
    "new_data = []\n",
    "# Define a sample dataset (ensure it matches the original training structure)\n",
    "\"\"\"new_data = pd.DataFrame({\n",
    "    'Intended Word': ['window','apple','window','rabbit','tiger','star','key','cake'], \n",
    "    'Produced Word': ['window','appo','win-dow','wabbit','tiger','tar','kee','take'], \n",
    "})\"\"\"\n",
    "new_data = pd.DataFrame({\n",
    "    'Intended Word': ['School'], \n",
    "    'Produced Word': ['School'], \n",
    "})"
   ]
  },
  {
   "cell_type": "code",
   "execution_count": 5,
   "id": "6b882613",
   "metadata": {},
   "outputs": [],
   "source": [
    "new_data[['edit_dist', 'length_diff', 'first_char_diff', 'last_char_diff',\n",
    "     'vowel_count_diff', 'consonant_count_diff', 'first_mismatch_pos',\n",
    "     'char_freq_diff', 'positional_diff', 'common_substring_len',\n",
    "     'vowel_diff', 'soundex_diff', 'prefix_diff', 'suffix_diff']] = new_data.apply(extract_features, axis=1)"
   ]
  },
  {
   "cell_type": "code",
   "execution_count": 6,
   "id": "1fe5444b",
   "metadata": {},
   "outputs": [
    {
     "data": {
      "text/html": [
       "<div>\n",
       "<style scoped>\n",
       "    .dataframe tbody tr th:only-of-type {\n",
       "        vertical-align: middle;\n",
       "    }\n",
       "\n",
       "    .dataframe tbody tr th {\n",
       "        vertical-align: top;\n",
       "    }\n",
       "\n",
       "    .dataframe thead th {\n",
       "        text-align: right;\n",
       "    }\n",
       "</style>\n",
       "<table border=\"1\" class=\"dataframe\">\n",
       "  <thead>\n",
       "    <tr style=\"text-align: right;\">\n",
       "      <th></th>\n",
       "      <th>Intended Word</th>\n",
       "      <th>Produced Word</th>\n",
       "      <th>edit_dist</th>\n",
       "      <th>length_diff</th>\n",
       "      <th>first_char_diff</th>\n",
       "      <th>last_char_diff</th>\n",
       "      <th>vowel_count_diff</th>\n",
       "      <th>consonant_count_diff</th>\n",
       "      <th>first_mismatch_pos</th>\n",
       "      <th>char_freq_diff</th>\n",
       "      <th>positional_diff</th>\n",
       "      <th>common_substring_len</th>\n",
       "      <th>vowel_diff</th>\n",
       "      <th>soundex_diff</th>\n",
       "      <th>prefix_diff</th>\n",
       "      <th>suffix_diff</th>\n",
       "    </tr>\n",
       "  </thead>\n",
       "  <tbody>\n",
       "    <tr>\n",
       "      <th>0</th>\n",
       "      <td>School</td>\n",
       "      <td>School</td>\n",
       "      <td>0</td>\n",
       "      <td>0</td>\n",
       "      <td>0</td>\n",
       "      <td>0</td>\n",
       "      <td>0</td>\n",
       "      <td>0</td>\n",
       "      <td>-1</td>\n",
       "      <td>0</td>\n",
       "      <td>0</td>\n",
       "      <td>6</td>\n",
       "      <td>0</td>\n",
       "      <td>0</td>\n",
       "      <td>0</td>\n",
       "      <td>0</td>\n",
       "    </tr>\n",
       "  </tbody>\n",
       "</table>\n",
       "</div>"
      ],
      "text/plain": [
       "  Intended Word Produced Word  edit_dist  length_diff  first_char_diff  \\\n",
       "0        School        School          0            0                0   \n",
       "\n",
       "   last_char_diff  vowel_count_diff  consonant_count_diff  first_mismatch_pos  \\\n",
       "0               0                 0                     0                  -1   \n",
       "\n",
       "   char_freq_diff  positional_diff  common_substring_len  vowel_diff  \\\n",
       "0               0                0                     6           0   \n",
       "\n",
       "   soundex_diff  prefix_diff  suffix_diff  \n",
       "0             0            0            0  "
      ]
     },
     "execution_count": 6,
     "metadata": {},
     "output_type": "execute_result"
    }
   ],
   "source": [
    "new_data.head()"
   ]
  },
  {
   "cell_type": "code",
   "execution_count": 7,
   "id": "bef42a56",
   "metadata": {},
   "outputs": [],
   "source": [
    "X = new_data[['edit_dist','length_diff','first_char_diff','last_char_diff','vowel_count_diff','consonant_count_diff','first_mismatch_pos','char_freq_diff','positional_diff','common_substring_len','vowel_diff','soundex_diff','prefix_diff','suffix_diff']]"
   ]
  },
  {
   "cell_type": "code",
   "execution_count": 8,
   "id": "89c174b1",
   "metadata": {},
   "outputs": [],
   "source": [
    "X_scaled = loaded_scaler.transform(X)"
   ]
  },
  {
   "cell_type": "code",
   "execution_count": 9,
   "id": "6ed0f2b1",
   "metadata": {},
   "outputs": [
    {
     "name": "stdout",
     "output_type": "stream",
     "text": [
      "Predicted labels: [4.]\n"
     ]
    }
   ],
   "source": [
    "# Step 3: Make predictions\n",
    "y_pred = loaded_model.predict(X_scaled)\n",
    "print(\"Predicted labels:\", y_pred)"
   ]
  },
  {
   "cell_type": "markdown",
   "id": "9a4cf7a2",
   "metadata": {},
   "source": [
    " {0: 'Substitution', 1: 'Omission', 2: 'Distortion', 3: 'Addition', 4: 'No Error', 5: 'Repetition'}"
   ]
  }
 ],
 "metadata": {
  "kernelspec": {
   "display_name": "venv",
   "language": "python",
   "name": "python3"
  },
  "language_info": {
   "codemirror_mode": {
    "name": "ipython",
    "version": 3
   },
   "file_extension": ".py",
   "mimetype": "text/x-python",
   "name": "python",
   "nbconvert_exporter": "python",
   "pygments_lexer": "ipython3",
   "version": "3.12.0"
  }
 },
 "nbformat": 4,
 "nbformat_minor": 5
}
